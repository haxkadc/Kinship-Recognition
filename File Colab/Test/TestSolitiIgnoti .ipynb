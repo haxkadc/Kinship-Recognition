{
  "nbformat": 4,
  "nbformat_minor": 0,
  "metadata": {
    "colab": {
      "name": "PrimoTestSolitiIgnoti.ipynb",
      "provenance": [],
      "collapsed_sections": []
    },
    "kernelspec": {
      "name": "python3",
      "display_name": "Python 3"
    },
    "language_info": {
      "name": "python"
    },
    "accelerator": "GPU"
  },
  "cells": [
    {
      "cell_type": "code",
      "metadata": {
        "colab": {
          "base_uri": "https://localhost:8080/"
        },
        "id": "a0Psx-A6qJxL",
        "outputId": "7bbc7a5a-1ff9-4609-ad39-30aaaa2bb0bc"
      },
      "source": [
        "from google.colab import drive\n",
        "drive.mount('/content/drive',force_remount=True)"
      ],
      "execution_count": null,
      "outputs": [
        {
          "output_type": "stream",
          "text": [
            "Mounted at /content/drive\n"
          ],
          "name": "stdout"
        }
      ]
    },
    {
      "cell_type": "code",
      "metadata": {
        "id": "15o3C2Hm8mz3"
      },
      "source": [
        "#some of blocks below are not used.\n",
        "# Data manipulation\n",
        "import numpy as np\n",
        "import pandas as pd\n",
        "import csv\n",
        "# import vgg_pytorch as vp\n",
        "# Data visualisation\n",
        "import matplotlib.pyplot as plt\n",
        "\n",
        "# Fastai\n",
        "from fastai.vision import *\n",
        "from fastai.vision.models import *\n",
        "\n",
        "# PyTorch\n",
        "import torch\n",
        "import torch.nn as nn\n",
        "import torch.nn.functional as F\n",
        "import torchvision.transforms as transforms\n",
        "import torchvision.utils\n",
        "import torchvision.datasets as dset\n",
        "\n",
        "from torch import optim\n",
        "from torch.utils.data import DataLoader,Dataset\n",
        "from torchvision.models import *\n",
        "from torchvision.datasets import ImageFolder\n",
        "from torch.autograd import Variable\n",
        "#import pretrainedmodels\n",
        "\n",
        "from pathlib import Path\n",
        "import sys\n",
        "import dlib\n",
        "import cv2\n",
        "from glob import glob\n",
        "from PIL import Image\n",
        "\n",
        "\n",
        "\n",
        "\n",
        "detector = dlib.get_frontal_face_detector()\n",
        "\n",
        "np.random.seed(42)#To make sure that each time you run this kernal, you will get the same beginning parameters.\n",
        "\n",
        "BATCH_SIZE=16\n",
        "NUMBER_EPOCHS=10\n",
        "IMG_SIZE=224\n",
        "#pathModel ='/content/drive/My Drive/input/simple_network-Kinface2-5ClassiSpecchiato.h5'\n",
        "#pathModel ='/content/drive/My Drive/input/simple_network-Kinface2-5Classi25-05.h5'\n",
        "pathModel = '/content/drive/MyDrive/input/Prova1simple_network-Kinface2_12-06-No-abs.h5'\n",
        "pathDir  = 'drive/MyDrive/Soliti__Ignoti/28-04-21//'"
      ],
      "execution_count": null,
      "outputs": []
    },
    {
      "cell_type": "code",
      "metadata": {
        "id": "8zSl0dzA8tBX"
      },
      "source": [
        "def imshow(img,text=None,should_save=False):#for showing the data you loaded to dataloader\n",
        "    npimg = img.numpy()\n",
        "    plt.axis(\"off\")\n",
        "    if text:\n",
        "        plt.text(75, 8, text, style='italic',fontweight='bold',\n",
        "            bbox={'facecolor':'white', 'alpha':0.8, 'pad':10})\n",
        "    plt.imshow(np.transpose(npimg, (1, 2, 0)))\n",
        "    plt.show()    \n",
        "\n",
        "def show_plot(iteration,loss):# for showing loss value changed with iter\n",
        "    plt.plot(iteration,loss)\n",
        "    plt.show()\n",
        "\n",
        "def Trasform(lista):\n",
        "  listatemp = []\n",
        "  for l in lista:\n",
        "      listatemp.append(labelCM[l])\n",
        "  return listatemp\n"
      ],
      "execution_count": null,
      "outputs": []
    },
    {
      "cell_type": "code",
      "metadata": {
        "id": "pgZwuajWWoyb"
      },
      "source": [
        "def estrai(Dirpath):\n",
        "  i = 0\n",
        "  files = [file_i for file_i in os.listdir(Dirpath) if file_i.endswith(\"PNG\")]\n",
        "  for file in files:\n",
        "    imgpath = Dirpath+file\n",
        "    img = cv2.imread(imgpath)\n",
        "    faces = detector(img, 1)\n",
        "    for face_rect in faces:\n",
        "        width = face_rect.right() - face_rect.left()\n",
        "        height = face_rect.bottom() - face_rect.top()\n",
        "        image_to_crop = Image.open(imgpath)\n",
        "        crop_area = (face_rect.left(), face_rect.top(), face_rect.right(), face_rect.bottom())\n",
        "        cropped_image = image_to_crop.crop(crop_area)\n",
        "        crop_size = (width, height)\n",
        "        cropped_image.thumbnail(crop_size)\n",
        "        cropped_image= cropped_image.convert('RGB')\n",
        "        # cropped_image = cropped_image.resize((64,64))\n",
        "        cropped_image.save(Dirpath+\"ImgCropped\" +str(i)+ \".jpg\", \"JPEG\")\n",
        "        i+=1"
      ],
      "execution_count": null,
      "outputs": []
    },
    {
      "cell_type": "code",
      "metadata": {
        "id": "HibgSwyb802p"
      },
      "source": [
        "class SiameseNetwork(nn.Module):# A simple implementation of siamese network, ResNet50 is used, and then connected by three fc layer.\n",
        "    def __init__(self):\n",
        "        super(SiameseNetwork, self).__init__()\n",
        "        self.cnn1 = vgg16(pretrained=True)# wide_resnet50_2(pretrained=True)##vp.VGG.from_pretrained('vgg16')#resnet50 doesn't work, might because pretrained model recognize all faces as the same.\n",
        "        #self.ccn1.classifier =  nn.Linear(100*100, )\n",
        "        # #Freeze training for all layers\n",
        "        for param in self.cnn1.features.parameters():\n",
        "          param.require_grad = False\n",
        "        for param in self.cnn1.classifier.parameters():\n",
        "          param.require_grad = False\n",
        "\n",
        "\n",
        "\n",
        "        #Newly created modules have require_grad=True by default\n",
        "        num_features = self.cnn1.classifier[3].in_features\n",
        "        features = list(self.cnn1.classifier.children())[:-3] # Remove last layer\n",
        "        \n",
        "        self.cnn1.classifier = nn.Sequential(*features) # Replace the model classifier\n",
        "        # features.extend([nn.Linear(num_features, 1000)]) # Add our layer with 4 outputs\n",
        "        # features.extend([nn.ReLU(inplace=True)])\n",
        "        # features.extend([nn.Dropout()]) # Add our layer with 4 outputs\n",
        "        self.new_classifier = features\n",
        "        # self.pool =  nn.MaxPool2d\n",
        "        self.fc1 = nn.Linear(num_features*2, 1024)\n",
        "        self.fc2 = nn.Linear(1024, 500)\n",
        "        self.fc3 = nn.Linear(500, 5)\n",
        "\n",
        "\n",
        "    def forward(self, input1, input2):#did not know how to let two resnet share the same param.\n",
        "        # self.cnn1.classifier = nn.Sequential(*self.new_classifier).cuda()\n",
        "        output1 = self.cnn1(input1)\n",
        "        output1 = output1.view(output1.size()[0], -1)#make it suitable for fc layer.\n",
        "        #output1 = F.max_pool2d(output1,kernel_size=3)\n",
        "        #output1 = self.pool(2)(output1)\n",
        "        #output1 = torch.cat((output1,output1),1)\n",
        "        output2 = self.cnn1(input2)\n",
        "        output2 = output2.view(output2.size()[0], -1)\n",
        "        # output2 = self.pool(2)(output2)\n",
        "        #output2 = torch.cat((output2,output2),1)\n",
        "        substract_out = torch.subtract(output1,output2)\n",
        "        diffal2 = torch.multiply(substract_out,substract_out)\n",
        "        molt = torch.multiply(output1,output2)\n",
        "        output1al2 = torch.multiply(output1,output1)\n",
        "        output2al2 = torch.multiply(output2,output2)\n",
        "        diffdei2 = torch.subtract(output1al2,output2al2)\n",
        "        output = torch.cat((diffal2, molt),1)\n",
        "        output = F.relu(self.fc1(output))\n",
        "        output = F.relu(self.fc2(output))\n",
        "        output = self.fc3(output)\n",
        "        return output"
      ],
      "execution_count": null,
      "outputs": []
    },
    {
      "cell_type": "code",
      "metadata": {
        "id": "7ytpNP1sYCq8"
      },
      "source": [
        "# estrai(pathDir)"
      ],
      "execution_count": null,
      "outputs": []
    },
    {
      "cell_type": "code",
      "metadata": {
        "id": "rMc84zT0edyj"
      },
      "source": [
        "imgCropped = [i for i in os.listdir(pathDir) if i.endswith(\"jpg\")]\n",
        "lista = []\n",
        "for i in range(len(imgCropped)-1):\n",
        "  k = i+1\n",
        "  for j in range(k,len(imgCropped)):\n",
        "    lista.append([imgCropped[i],imgCropped[j],\"4\"])\n",
        "\n",
        "\n",
        "with open(pathDir+\"test.csv\", 'w') as myfile:\n",
        "  for p in lista:\n",
        "    wr = csv.writer(myfile, quoting=csv.QUOTE_ALL)\n",
        "    wr.writerow(p)\n"
      ],
      "execution_count": null,
      "outputs": []
    },
    {
      "cell_type": "code",
      "metadata": {
        "id": "vab0WC8iA4vP"
      },
      "source": [
        "dfTest = pd.read_csv(pathDir+\"test.csv\",names=[\"p1\",\"p2\",\"Label\"])\n",
        "dfTest"
      ],
      "execution_count": null,
      "outputs": []
    },
    {
      "cell_type": "code",
      "metadata": {
        "colab": {
          "base_uri": "https://localhost:8080/",
          "height": 77
        },
        "id": "hJkqriM4Bblv",
        "outputId": "0a2c6e6c-408f-4766-b4b6-3a8ae648b40a"
      },
      "source": [
        "dfTest[(dfTest[\"p2\"]==\"ImgCropped0.jpg\") &( dfTest[\"p1\"]==\"ImgCropped0.jpg\")]"
      ],
      "execution_count": null,
      "outputs": [
        {
          "output_type": "execute_result",
          "data": {
            "text/html": [
              "<div>\n",
              "<style scoped>\n",
              "    .dataframe tbody tr th:only-of-type {\n",
              "        vertical-align: middle;\n",
              "    }\n",
              "\n",
              "    .dataframe tbody tr th {\n",
              "        vertical-align: top;\n",
              "    }\n",
              "\n",
              "    .dataframe thead th {\n",
              "        text-align: right;\n",
              "    }\n",
              "</style>\n",
              "<table border=\"1\" class=\"dataframe\">\n",
              "  <thead>\n",
              "    <tr style=\"text-align: right;\">\n",
              "      <th></th>\n",
              "      <th>p1</th>\n",
              "      <th>p2</th>\n",
              "      <th>Label</th>\n",
              "    </tr>\n",
              "  </thead>\n",
              "  <tbody>\n",
              "    <tr>\n",
              "      <th>0</th>\n",
              "      <td>ImgCropped0.jpg</td>\n",
              "      <td>ImgCropped1.jpg</td>\n",
              "      <td>4</td>\n",
              "    </tr>\n",
              "  </tbody>\n",
              "</table>\n",
              "</div>"
            ],
            "text/plain": [
              "                p1               p2  Label\n",
              "0  ImgCropped0.jpg  ImgCropped1.jpg      4"
            ]
          },
          "metadata": {
            "tags": []
          },
          "execution_count": 58
        }
      ]
    },
    {
      "cell_type": "code",
      "metadata": {
        "colab": {
          "base_uri": "https://localhost:8080/"
        },
        "id": "yTf55fkWHgWp",
        "outputId": "ee9606b2-695a-461e-83e3-3385b9ad04de"
      },
      "source": [
        "dfTest[\"p2\"][0] = 'ImgCropped0.jpg'\n",
        "\n"
      ],
      "execution_count": null,
      "outputs": [
        {
          "output_type": "stream",
          "text": [
            "/usr/local/lib/python3.7/dist-packages/ipykernel_launcher.py:1: SettingWithCopyWarning: \n",
            "A value is trying to be set on a copy of a slice from a DataFrame\n",
            "\n",
            "See the caveats in the documentation: https://pandas.pydata.org/pandas-docs/stable/user_guide/indexing.html#returning-a-view-versus-a-copy\n",
            "  \"\"\"Entry point for launching an IPython kernel.\n"
          ],
          "name": "stderr"
        }
      ]
    },
    {
      "cell_type": "code",
      "metadata": {
        "id": "YyFTiJQ5HnF7"
      },
      "source": [
        "dfTest.to_csv(pathDir+\"test.csv\",index=False)\n",
        "dfTest"
      ],
      "execution_count": null,
      "outputs": []
    },
    {
      "cell_type": "code",
      "metadata": {
        "id": "8BZEBiYC81pb"
      },
      "source": [
        ""
      ],
      "execution_count": null,
      "outputs": []
    },
    {
      "cell_type": "code",
      "metadata": {
        "colab": {
          "base_uri": "https://localhost:8080/"
        },
        "id": "JhSErL2u80ru",
        "outputId": "c7ec41f9-c781-4329-8260-1a89646ce77b"
      },
      "source": [
        "net = SiameseNetwork().cuda()\n",
        "net.load_state_dict(torch.load(pathModel))"
      ],
      "execution_count": null,
      "outputs": [
        {
          "output_type": "execute_result",
          "data": {
            "text/plain": [
              "<All keys matched successfully>"
            ]
          },
          "metadata": {
            "tags": []
          },
          "execution_count": 23
        }
      ]
    },
    {
      "cell_type": "code",
      "metadata": {
        "id": "GfY4PXz_9BGX"
      },
      "source": [
        "class testDataset(Dataset): #different from train dataset, because the data organized in submission.csv is different from train.csv\n",
        "    \n",
        "    def __init__(self,path,transform=None):\n",
        "        self.path = path\n",
        "        self.test_df =pd.read_csv(self.path+'test.csv')\n",
        "        self.transform = transform\n",
        "        \n",
        "    def __getitem__(self,index):\n",
        "        img0_path = self.test_df.iloc[index].p1\n",
        "        img1_path = self.test_df.iloc[index].p2\n",
        "        label = self.test_df.iloc[index].Label\n",
        "        \n",
        "        img0 = Image.open(self.path+img0_path)\n",
        "        img1 = Image.open(self.path+img1_path)\n",
        "        if self.transform is not None:\n",
        "            img0 = self.transform(img0)\n",
        "            img1 = self.transform(img1)\n",
        "        \n",
        "        return img0, img1,label\n",
        "    \n",
        "    def __len__(self):\n",
        "        return len(self.test_df)"
      ],
      "execution_count": null,
      "outputs": []
    },
    {
      "cell_type": "code",
      "metadata": {
        "id": "WO6-HwxN9ig6",
        "colab": {
          "base_uri": "https://localhost:8080/"
        },
        "outputId": "d4b16e79-6753-4522-9346-86bafb844e5c"
      },
      "source": [
        "testset = testDataset(path=pathDir ,transform=transforms.Compose([transforms.Resize((IMG_SIZE,IMG_SIZE)),\n",
        "                                                                      transforms.ToTensor()\n",
        "                                                                      ]))\n",
        "testloader = DataLoader(testset,\n",
        "                        shuffle=False,\n",
        "                        num_workers=8,\n",
        "                        batch_size=1)#Both extra workers and batch size lead to data out of order, the submission.csv will be out of order\n",
        "#if you have better method, please tell me! thanks a lot!"
      ],
      "execution_count": null,
      "outputs": [
        {
          "output_type": "stream",
          "text": [
            "/usr/local/lib/python3.7/dist-packages/torch/utils/data/dataloader.py:477: UserWarning: This DataLoader will create 8 worker processes in total. Our suggested max number of worker in current system is 2, which is smaller than what this DataLoader is going to create. Please be aware that excessive worker creation might get DataLoader running slow or even freeze, lower the worker number to avoid potential slowness/freeze if necessary.\n",
            "  cpuset_checked))\n"
          ],
          "name": "stderr"
        }
      ]
    },
    {
      "cell_type": "code",
      "metadata": {
        "id": "mfQ7GgkS9l-Z",
        "colab": {
          "base_uri": "https://localhost:8080/"
        },
        "outputId": "d89ad8de-6527-4401-f9df-f8763dde47d2"
      },
      "source": [
        "predictions=[]\n",
        "lb =[]\n",
        "with torch.no_grad():\n",
        "    for data in testloader:\n",
        "        img0, img1,label = data\n",
        "        img0, img1,label = img0.cuda(), img1.cuda(),label.cuda()\n",
        "        outputs = net(img0,img1)\n",
        "        _, predicted = torch.max(outputs, 1)\n",
        "        predictions.append(predicted.cpu().numpy())#taking care of here, the output data format is important for transfer\n",
        "        lb.append(label.cpu().numpy())"
      ],
      "execution_count": null,
      "outputs": [
        {
          "output_type": "stream",
          "text": [
            "/usr/local/lib/python3.7/dist-packages/torch/utils/data/dataloader.py:477: UserWarning: This DataLoader will create 8 worker processes in total. Our suggested max number of worker in current system is 2, which is smaller than what this DataLoader is going to create. Please be aware that excessive worker creation might get DataLoader running slow or even freeze, lower the worker number to avoid potential slowness/freeze if necessary.\n",
            "  cpuset_checked))\n"
          ],
          "name": "stderr"
        }
      ]
    },
    {
      "cell_type": "code",
      "metadata": {
        "id": "AGpCCuSTUjxQ"
      },
      "source": [
        "flat_list = [item for sublist in lb for item in sublist]\n",
        "flat_predictions = [item for sublist in predictions for item in sublist]\n",
        "correct = 0\n",
        "for i in range(0,len(flat_list)):\n",
        "    #print(\"Valore Vero:\"+str(flat_list[i]))\n",
        "    #print(\"Valore Predetto:\"+str(flat_predictions[i]))\n",
        "    if flat_list[i] == flat_predictions[i]:\n",
        "      correct+=1\n",
        "  \n",
        "labelCM = [\"FD\", \"FS\",\"MD\",\"MS\",\"NK\"]\n",
        "  "
      ],
      "execution_count": null,
      "outputs": []
    },
    {
      "cell_type": "code",
      "metadata": {
        "colab": {
          "base_uri": "https://localhost:8080/",
          "height": 364
        },
        "id": "vvg_iI02U-HD",
        "outputId": "5afaf7a2-b3dd-4c5b-c046-35cf54ec79b9"
      },
      "source": [
        "from sklearn.metrics import confusion_matrix\n",
        "\n",
        "cm = confusion_matrix(Trasform(flat_list),Trasform(flat_predictions), labelCM)\n",
        "print(cm)\n",
        "\n",
        "fig = plt.figure()\n",
        "\n",
        "ax = fig.add_subplot(111)\n",
        "cax = ax.matshow(cm)\n",
        "fig.colorbar(cax)\n",
        "for i in range(len(cm[0])):\n",
        "  for j in range(len(cm[0])):\n",
        "    ax.text(j, i, format(cm[i][j], \"d\"))\n",
        "ax.set_xticklabels([''] + labelCM)\n",
        "ax.set_yticklabels([''] + labelCM)\n",
        "plt.xlabel('Predicted')\n",
        "plt.ylabel('True')\n",
        "plt.set_cmap('Greens')\n",
        "plt.show()"
      ],
      "execution_count": null,
      "outputs": [
        {
          "output_type": "stream",
          "text": [
            "[[ 1  0  0  0  0]\n",
            " [ 0  0  0  0  0]\n",
            " [ 0  0  0  0  0]\n",
            " [ 0  0  0  0  0]\n",
            " [ 8 17  7 12  0]]\n"
          ],
          "name": "stdout"
        },
        {
          "output_type": "display_data",
          "data": {
            "image/png": "[encoded data removed]",
            "text/plain": [
              "<Figure size 432x288 with 2 Axes>"
            ]
          },
          "metadata": {
            "tags": [],
            "needs_background": "light"
          }
        }
      ]
    },
    {
      "cell_type": "code",
      "metadata": {
        "colab": {
          "base_uri": "https://localhost:8080/"
        },
        "id": "NM_w8_8GVNN8",
        "outputId": "a287f97f-2e2a-4a67-ce90-702d61cd004b"
      },
      "source": [
        "print(cm[0][0]/(cm[0].sum()))\n",
        "print(cm[1][1]/(cm[1].sum()))\n",
        "print(cm[2][2]/(cm[2].sum()))\n",
        "print(cm[3][3]/(cm[3].sum()))\n",
        "print(cm[4][4]/(cm[4].sum()))\n",
        "print(correct/8*100)"
      ],
      "execution_count": null,
      "outputs": [
        {
          "output_type": "stream",
          "text": [
            "1.0\n",
            "nan\n",
            "nan\n",
            "nan\n",
            "0.0\n",
            "12.5\n"
          ],
          "name": "stdout"
        },
        {
          "output_type": "stream",
          "text": [
            "/usr/local/lib/python3.7/dist-packages/ipykernel_launcher.py:2: RuntimeWarning: invalid value encountered in long_scalars\n",
            "  \n",
            "/usr/local/lib/python3.7/dist-packages/ipykernel_launcher.py:3: RuntimeWarning: invalid value encountered in long_scalars\n",
            "  This is separate from the ipykernel package so we can avoid doing imports until\n",
            "/usr/local/lib/python3.7/dist-packages/ipykernel_launcher.py:4: RuntimeWarning: invalid value encountered in long_scalars\n",
            "  after removing the cwd from sys.path.\n"
          ],
          "name": "stderr"
        }
      ]
    }
  ]
}