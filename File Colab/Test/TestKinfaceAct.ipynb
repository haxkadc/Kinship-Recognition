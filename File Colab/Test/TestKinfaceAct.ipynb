{
  "nbformat": 4,
  "nbformat_minor": 0,
  "metadata": {
    "colab": {
      "name": "TestKinfaceAct.ipynb",
      "provenance": []
    },
    "kernelspec": {
      "name": "python3",
      "display_name": "Python 3"
    },
    "language_info": {
      "name": "python"
    },
    "accelerator": "GPU"
  },
  "cells": [
    {
      "cell_type": "code",
      "metadata": {
        "colab": {
          "base_uri": "https://localhost:8080/"
        },
        "id": "qWOQhaYL_aQ1",
        "outputId": "393e1370-1909-4a52-80d4-6a94e6bcd0c2"
      },
      "source": [
        "from google.colab import drive\n",
        "drive.mount('/content/drive',force_remount=True)"
      ],
      "execution_count": null,
      "outputs": [
        {
          "output_type": "stream",
          "text": [
            "Mounted at /content/drive\n"
          ],
          "name": "stdout"
        }
      ]
    },
    {
      "cell_type": "code",
      "metadata": {
        "id": "dgh_RYau_kHA"
      },
      "source": [
        "#some of blocks below are not used.\n",
        "# Data manipulation\n",
        "import numpy as np\n",
        "import pandas as pd\n",
        "import csv\n",
        "# import vgg_pytorch as vp\n",
        "# Data visualisation\n",
        "import matplotlib.pyplot as plt\n",
        "\n",
        "# Fastai\n",
        "from fastai.vision import *\n",
        "from fastai.vision.models import *\n",
        "\n",
        "# PyTorch\n",
        "import torch\n",
        "import torch.nn as nn\n",
        "import torch.nn.functional as F\n",
        "import torchvision.transforms as transforms\n",
        "import torchvision.utils\n",
        "import torchvision.datasets as dset\n",
        "\n",
        "from torch import optim\n",
        "from torch.utils.data import DataLoader,Dataset\n",
        "from torchvision.models import *\n",
        "from torchvision.datasets import ImageFolder\n",
        "from torch.autograd import Variable\n",
        "#import pretrainedmodels\n",
        "\n",
        "from pathlib import Path\n",
        "import sys\n",
        "import dlib\n",
        "import cv2\n",
        "from glob import glob\n",
        "from PIL import Image\n",
        "\n",
        "\n",
        "\n",
        "np.random.seed(42)#To make sure that each time you run this kernal, you will get the same beginning parameters.\n",
        "\n",
        "BATCH_SIZE=16\n",
        "NUMBER_EPOCHS=10\n",
        "IMG_SIZE=224\n",
        "\n",
        "pathDir  = 'drive/MyDrive/Dataset_Actor/Kinface-Act/'\n",
        "pathDir =   'drive/MyDrive/Dataset_Ignoti/'"
      ],
      "execution_count": null,
      "outputs": []
    },
    {
      "cell_type": "code",
      "metadata": {
        "id": "_tpjLy1R_9Z1"
      },
      "source": [
        "class SiameseNetwork(nn.Module):# A simple implementation of siamese network, ResNet50 is used, and then connected by three fc layer.\n",
        "    def __init__(self):\n",
        "        super(SiameseNetwork, self).__init__()\n",
        "        self.cnn1 = vgg16(pretrained=True)# wide_resnet50_2(pretrained=True)##vp.VGG.from_pretrained('vgg16')#resnet50 doesn't work, might because pretrained model recognize all faces as the same.\n",
        "        #self.ccn1.classifier =  nn.Linear(100*100, )\n",
        "        # #Freeze training for all layers\n",
        "        for param in self.cnn1.features.parameters():\n",
        "          param.require_grad = False\n",
        "\n",
        "\n",
        "\n",
        "        #Newly created modules have require_grad=True by default\n",
        "        num_features = self.cnn1.classifier[3].in_features\n",
        "        features = list(self.cnn1.classifier.children())[:-3] # Remove last layer\n",
        "\n",
        "        self.cnn1.classifier = nn.Sequential(*features) # Replace the model classifier\n",
        "        # features.extend([nn.Linear(num_features, 1000)]) # Add our layer with 4 outputs\n",
        "        # features.extend([nn.ReLU(inplace=True)])\n",
        "        # features.extend([nn.Dropout()]) # Add our layer with 4 outputs\n",
        "        # self.cnn1.classifier[3].out_features = 5\n",
        "        self.new_classifier = features\n",
        "        # self.pool =  nn.MaxPool2d\n",
        "        self.fc1 = nn.Linear(num_features*2, 1024)\n",
        "        self.fc2 = nn.Linear(1024, 500)\n",
        "        self.fc3 = nn.Linear(500, 5)\n",
        "\n",
        "\n",
        "    def forward(self, input1, input2):#did not know how to let two resnet share the same param.\n",
        "        # self.cnn1.classifier = nn.Sequential(*self.new_classifier).cuda()\n",
        "        output1 = self.cnn1(input1)\n",
        "        output1 = output1.view(output1.size()[0], -1)#make it suitable for fc layer.\n",
        "        #output1 = F.max_pool2d(output1,kernel_size=3)\n",
        "        #output1 = self.pool(2)(output1)\n",
        "        #output1 = torch.cat((output1,output1),1)\n",
        "        output2 = self.cnn1(input2)\n",
        "        output2 = output2.view(output2.size()[0], -1)\n",
        "        # output2 = self.pool(2)(output2)\n",
        "        #output2 = torch.cat((output2,output2),1)\n",
        "        substract_out = torch.subtract(output1,output2)\n",
        "        diffal2 = torch.multiply(substract_out,substract_out)\n",
        "        molt = torch.multiply(output1,output2)\n",
        "        output1al2 = torch.multiply(output1,output1)\n",
        "        output2al2 = torch.multiply(output2,output2)\n",
        "        diffdei2 = torch.abs(torch.subtract(output1al2,output2al2))\n",
        "\n",
        "        output = torch.cat((diffal2, molt),1)\n",
        "        output = F.relu(self.fc1(output))\n",
        "        output = F.relu(self.fc2(output))\n",
        "        output = self.fc3(output)\n",
        "        return output"
      ],
      "execution_count": null,
      "outputs": []
    },
    {
      "cell_type": "code",
      "metadata": {
        "id": "5HkB3ZeNDSMV"
      },
      "source": [
        "# class SiameseNetwork(nn.Module):# A simple implementation of siamese network, ResNet50 is used, and then connected by three fc layer.\n",
        "#     def __init__(self):\n",
        "#         super(SiameseNetwork, self).__init__()\n",
        "#         self.cnn1 = vgg16(pretrained=True)# wide_resnet50_2(pretrained=True)##vp.VGG.from_pretrained('vgg16')#resnet50 doesn't work, might because pretrained model recognize all faces as the same.\n",
        "#         #self.ccn1.classifier =  nn.Linear(100*100, )\n",
        "#         # #Freeze training for all layers\n",
        "#         for param in self.cnn1.features.parameters():\n",
        "#           param.require_grad = False\n",
        "        \n",
        "#         for param in self.cnn1.classifier.parameters():\n",
        "#           param.require_grad = False\n",
        "\n",
        "\n",
        "\n",
        "#         #Newly created modules have require_grad=True by default\n",
        "#         num_features = self.cnn1.classifier[3].in_features\n",
        "#         features = list(self.cnn1.classifier.children())[:-3] # Remove last layer\n",
        "        \n",
        "#         self.cnn1.classifier = nn.Sequential(*features) # Replace the model classifier\n",
        "#         # features.extend([nn.Linear(num_features, 1000)]) # Add our layer with 4 outputs\n",
        "#         # features.extend([nn.ReLU(inplace=True)])\n",
        "#         # features.extend([nn.Dropout()]) # Add our layer with 4 outputs\n",
        "#         # self.cnn1.classifier[3].out_features = 5\n",
        "#         self.new_classifier = features\n",
        "#         # self.pool =  nn.MaxPool2d\n",
        "#         self.fc1 = nn.Linear(num_features*3, 1024)\n",
        "#         self.fc2 = nn.Linear(1024, 500)\n",
        "#         self.fc3 = nn.Linear(500, 4)\n",
        "\n",
        "\n",
        "#     def forward(self, input1, input2):#did not know how to let two resnet share the same param.\n",
        "#         # self.cnn1.classifier = nn.Sequential(*self.new_classifier).cuda()\n",
        "#         output1 = self.cnn1(input1)\n",
        "#         output1 = output1.view(output1.size()[0], -1)#make it suitable for fc layer.\n",
        "#         #output1 = F.max_pool2d(output1,kernel_size=3)\n",
        "#         #output1 = self.pool(2)(output1)\n",
        "#         #output1 = torch.cat((output1,output1),1)\n",
        "#         output2 = self.cnn1(input2)\n",
        "#         output2 = output2.view(output2.size()[0], -1)\n",
        "#         # output2 = self.pool(2)(output2)\n",
        "#         #output2 = torch.cat((output2,output2),1)\n",
        "#         substract_out = torch.subtract(output1,output2)\n",
        "#         diffal2 = torch.multiply(substract_out,substract_out)\n",
        "#         molt = torch.multiply(output1,output2)\n",
        "#         output1al2 = torch.multiply(output1,output1)\n",
        "#         output2al2 = torch.multiply(output2,output2)\n",
        "#         diffdei2 = torch.abs(torch.subtract(output1al2,output2al2))\n",
        "#         output = torch.cat((diffal2, molt,diffdei2),1)\n",
        "#         output = F.relu(self.fc1(output))\n",
        "#         output = F.relu(self.fc2(output))\n",
        "#         output = self.fc3(output)\n",
        "#         return output"
      ],
      "execution_count": null,
      "outputs": []
    },
    {
      "cell_type": "code",
      "metadata": {
        "id": "TUvw54nwBb-M"
      },
      "source": [
        "def Trasform(lista):\n",
        "  listatemp = []\n",
        "  for l in lista:\n",
        "      listatemp.append(labelCM[l])\n",
        "  return listatemp\n",
        "\n",
        "def converti(label):\n",
        "      if label == 0:\n",
        "        return \"father-dau\"\n",
        "      elif label == 1:\n",
        "        return \"father-son\"\n",
        "      elif label == 2:\n",
        "        return \"mother-dau\"\n",
        "      elif label == 3:\n",
        "        return \"mother-son\"\n",
        "      else:\n",
        "        return \"Non-Kinship\""
      ],
      "execution_count": null,
      "outputs": []
    },
    {
      "cell_type": "code",
      "metadata": {
        "colab": {
          "base_uri": "https://localhost:8080/"
        },
        "id": "cyUIBy5_ARBD",
        "outputId": "019d3b6b-bfcb-457c-9879-91f618b1d31a"
      },
      "source": [
        "df0 =  pd.read_csv(pathDir+\"fd.csv\",names=[\"p1\", \"p2\",\"Label\"])\n",
        "df1 =  pd.read_csv(pathDir+\"fs.csv\",names=[\"p1\", \"p2\",\"Label\"])\n",
        "df2 =  pd.read_csv(pathDir+\"md.csv\",names=[\"p1\", \"p2\",\"Label\"])\n",
        "df3 =  pd.read_csv(pathDir+\"ms.csv\",names=[\"p1\", \"p2\",\"Label\"])\n",
        "dfFinal = pd.concat([df0,df1,df2,df3])\n",
        "len(dfFinal)"
      ],
      "execution_count": null,
      "outputs": [
        {
          "output_type": "execute_result",
          "data": {
            "text/plain": [
              "23"
            ]
          },
          "metadata": {
            "tags": []
          },
          "execution_count": 47
        }
      ]
    },
    {
      "cell_type": "code",
      "metadata": {
        "id": "zKYY8bNp__PR"
      },
      "source": [
        "class trainingDataset(Dataset):#Get two images and whether they are related.\n",
        "    \n",
        "    def __init__(self, dataFrame, transform=None):\n",
        "        self.dataFrame = dataFrame #choose either train or val dataset to use\n",
        "        self.transform = transform\n",
        "   \n",
        "        \n",
        "    def __getitem__(self,index):\n",
        "        img0_info = self.dataFrame.iloc[index][\"p1\"] #for each relationship in train_relationships.csv, the first img comes from first row, and the second is either specially choosed related person or randomly choosed non-related person\n",
        "        img1_info = self.dataFrame.iloc[index][\"p2\"]\n",
        "        label_number = self.dataFrame.iloc[index][\"Label\"] \n",
        "        label_desc = converti(label_number)\n",
        "        if label_desc == 'Non-Kinship':\n",
        "          if img0_info[0:2] == 'fd':\n",
        "             img0_path =pathDir+\"father-dau\"+\"/\"+img0_info\n",
        "             img1_path =pathDir+\"father-dau\"+\"/\"+img1_info\n",
        "          if img0_info[0:2] == 'fs':\n",
        "             img0_path =pathDir+\"father-son\"+\"/\"+img0_info\n",
        "             img1_path =pathDir+\"father-son\"+\"/\"+img1_info\n",
        "          if img0_info[0:2] == 'md':\n",
        "             img0_path =pathDir+\"mother-dau\"+\"/\"+img0_info\n",
        "             img1_path =pathDir+\"mother-dau\"+\"/\"+img1_info\n",
        "             \n",
        "          if img0_info[0:2] == 'ms':\n",
        "             img0_path =pathDir+\"mother-son\"+\"/\"+img0_info\n",
        "             img1_path =pathDir+\"mother-son\"+\"/\"+img1_info\n",
        "        else:\n",
        "          img0_path =pathDir+label_desc+\"/\"+img0_info\n",
        "          img1_path =pathDir+label_desc+\"/\"+img1_info        \n",
        "        img0 = Image.open(img0_path)\n",
        "        img1 = Image.open(img1_path)\n",
        "        \n",
        "        if self.transform is not None:#I think the transform is essential if you want to use GPU, because you have to trans data to tensor first.\n",
        "            img0 = self.transform(img0)\n",
        "            img1 = self.transform(img1)\n",
        "        return img0, img1 , label_number #the returned data from dataloader is img=[batch_size,channels,width,length], should_get_same_class=[batch_size,label]\n",
        "    \n",
        "    def __len__(self):\n",
        "        return len(self.dataFrame)#essential for choose the num of data in one epoch"
      ],
      "execution_count": null,
      "outputs": []
    },
    {
      "cell_type": "code",
      "metadata": {
        "id": "I3WNF6oeBrFD"
      },
      "source": [
        "pathModel = '/content/drive/My Drive/input/Prova1simple_network-Kinface2_12-06-No-abs.h5'"
      ],
      "execution_count": null,
      "outputs": []
    },
    {
      "cell_type": "code",
      "metadata": {
        "id": "IjEmTCKXDU8b"
      },
      "source": [
        "# pathModel = '/content/drive/MyDrive/input/Prova1simple_network-Kinface2_12-06-4ClassiSIabs3FEParamBlocc.h5'"
      ],
      "execution_count": null,
      "outputs": []
    },
    {
      "cell_type": "code",
      "metadata": {
        "colab": {
          "base_uri": "https://localhost:8080/"
        },
        "id": "lxZk9s4kBMh7",
        "outputId": "5ee2aa48-19c9-4df5-bd14-a4fb0824270e"
      },
      "source": [
        "net = SiameseNetwork().cuda()\n",
        "net.load_state_dict(torch.load(pathModel))"
      ],
      "execution_count": null,
      "outputs": [
        {
          "output_type": "execute_result",
          "data": {
            "text/plain": [
              "<All keys matched successfully>"
            ]
          },
          "metadata": {
            "tags": []
          },
          "execution_count": 43
        }
      ]
    },
    {
      "cell_type": "code",
      "metadata": {
        "colab": {
          "base_uri": "https://localhost:8080/"
        },
        "id": "SOYX3OGMBNDr",
        "outputId": "6f7e301b-840b-4bc7-dd37-43400fe1edd4"
      },
      "source": [
        "testset = trainingDataset(dataFrame=dfFinal,\n",
        "                                        transform=transforms.Compose([transforms.Resize((IMG_SIZE,IMG_SIZE)),\n",
        "                                                                      transforms.ToTensor()\n",
        "                                                                      ]))\n",
        "testloader = DataLoader(testset,\n",
        "                        shuffle=True,\n",
        "                        num_workers=8,\n",
        "                        batch_size=BATCH_SIZE)"
      ],
      "execution_count": null,
      "outputs": [
        {
          "output_type": "stream",
          "text": [
            "/usr/local/lib/python3.7/dist-packages/torch/utils/data/dataloader.py:477: UserWarning: This DataLoader will create 8 worker processes in total. Our suggested max number of worker in current system is 2, which is smaller than what this DataLoader is going to create. Please be aware that excessive worker creation might get DataLoader running slow or even freeze, lower the worker number to avoid potential slowness/freeze if necessary.\n",
            "  cpuset_checked))\n"
          ],
          "name": "stderr"
        }
      ]
    },
    {
      "cell_type": "code",
      "metadata": {
        "colab": {
          "base_uri": "https://localhost:8080/",
          "height": 556
        },
        "id": "0E8fQKlHBQkA",
        "outputId": "4774c536-6597-445e-96d5-98281f209452"
      },
      "source": [
        "predictions=[]\n",
        "lb =[]\n",
        "with torch.no_grad():\n",
        "    for data in testloader:\n",
        "        img0, img1,label = data\n",
        "        img0, img1,label = img0.cuda(), img1.cuda(),label.cuda()\n",
        "        outputs = net(img0,img1)\n",
        "        _, predicted = torch.max(outputs, 1)\n",
        "        predictions.append(predicted.cpu().numpy())#taking care of here, the output data format is important for transfer\n",
        "        lb.append(label.cpu().numpy())\n",
        "\n",
        "flat_list = [item for sublist in lb for item in sublist]\n",
        "flat_predictions = [item for sublist in predictions for item in sublist]\n",
        "correct = 0\n",
        "for i in range(0,len(flat_list)):\n",
        "    if flat_list[i] == flat_predictions[i]:\n",
        "      correct+=1\n",
        "  \n",
        "labelCM = [\"FD\", \"FS\",\"MD\",\"MS\",\"NK\"]\n",
        "\n",
        "from sklearn.metrics import confusion_matrix\n",
        "\n",
        "cm = confusion_matrix(Trasform(flat_list),Trasform(flat_predictions),labelCM)\n",
        "print(cm)\n",
        "\n",
        "fig = plt.figure()\n",
        "\n",
        "ax = fig.add_subplot(111)\n",
        "cax = ax.matshow(cm)\n",
        "fig.colorbar(cax)\n",
        "for i in range(len(cm[0])):\n",
        "  for j in range(len(cm[0])):\n",
        "    ax.text(j, i, format(cm[i][j], \"d\"))\n",
        "ax.set_xticklabels([''] + labelCM)\n",
        "ax.set_yticklabels([''] + labelCM)\n",
        "plt.xlabel('Predicted')\n",
        "plt.ylabel('True')\n",
        "plt.set_cmap('Greens')\n",
        "plt.show()\n",
        "\n",
        "print(cm[0][0]/(cm[0].sum()))\n",
        "print(cm[1][1]/(cm[1].sum()))\n",
        "print(cm[2][2]/(cm[2].sum()))\n",
        "print(cm[3][3]/(cm[3].sum()))\n",
        "print(cm[4][4]/(cm[4].sum()))\n",
        "print(correct/23*100)"
      ],
      "execution_count": null,
      "outputs": [
        {
          "output_type": "stream",
          "text": [
            "/usr/local/lib/python3.7/dist-packages/torch/utils/data/dataloader.py:477: UserWarning: This DataLoader will create 8 worker processes in total. Our suggested max number of worker in current system is 2, which is smaller than what this DataLoader is going to create. Please be aware that excessive worker creation might get DataLoader running slow or even freeze, lower the worker number to avoid potential slowness/freeze if necessary.\n",
            "  cpuset_checked))\n"
          ],
          "name": "stderr"
        },
        {
          "output_type": "stream",
          "text": [
            "[[2 1 0 2 0]\n",
            " [0 4 0 1 0]\n",
            " [1 0 2 5 0]\n",
            " [0 3 0 2 0]\n",
            " [0 0 0 0 0]]\n"
          ],
          "name": "stdout"
        },
        {
          "output_type": "display_data",
          "data": {
            "image/png": "[encoded data removed]",
            "text/plain": [
              "<Figure size 432x288 with 2 Axes>"
            ]
          },
          "metadata": {
            "tags": [],
            "needs_background": "light"
          }
        },
        {
          "output_type": "stream",
          "text": [
            "0.4\n",
            "0.8\n",
            "0.25\n",
            "0.4\n",
            "nan\n",
            "43.47826086956522\n"
          ],
          "name": "stdout"
        },
        {
          "output_type": "stream",
          "text": [
            "/usr/local/lib/python3.7/dist-packages/ipykernel_launcher.py:45: RuntimeWarning: invalid value encountered in long_scalars\n"
          ],
          "name": "stderr"
        }
      ]
    }
  ]
}